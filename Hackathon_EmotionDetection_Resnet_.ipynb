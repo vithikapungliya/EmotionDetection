{
  "cells": [
    {
      "cell_type": "code",
      "source": [
        "from google.colab import drive\n",
        "drive.mount('/content/drive')"
      ],
      "metadata": {
        "id": "gW0KQps0hSCx",
        "colab": {
          "base_uri": "https://localhost:8080/"
        },
        "outputId": "a45374d0-5e68-46ae-aecb-e80706963b9a"
      },
      "execution_count": null,
      "outputs": [
        {
          "output_type": "stream",
          "name": "stdout",
          "text": [
            "Mounted at /content/drive\n"
          ]
        }
      ]
    },
    {
      "cell_type": "markdown",
      "source": [
        "**Data Extraction from the Files**"
      ],
      "metadata": {
        "id": "haFwgOMzlsFJ"
      }
    },
    {
      "cell_type": "code",
      "execution_count": null,
      "metadata": {
        "id": "acVp9FQhqKF2"
      },
      "outputs": [],
      "source": [
        "import os\n",
        "import cv2\n",
        "import numpy\n",
        "import matplotlib.pyplot as plt\n",
        "import numpy as np"
      ]
    },
    {
      "cell_type": "code",
      "execution_count": null,
      "metadata": {
        "id": "CzDG9cr5w0_q"
      },
      "outputs": [],
      "source": [
        "path= \"/content/drive/MyDrive/Dataset\""
      ]
    },
    {
      "cell_type": "code",
      "execution_count": null,
      "metadata": {
        "id": "gbqMuCDixYWo"
      },
      "outputs": [],
      "source": [
        "files=os.listdir(path)"
      ]
    },
    {
      "cell_type": "code",
      "source": [
        "files_sad = [] #Appending the file names of each category in the list\n",
        "files_angry = []\n",
        "files_fear=[]\n",
        "files_happy=[]\n",
        "files_disgust=[]\n",
        "files_neutral=[]"
      ],
      "metadata": {
        "id": "x-N_ljQgFYsp"
      },
      "execution_count": null,
      "outputs": []
    },
    {
      "cell_type": "code",
      "source": [
        "for i in files:\n",
        "  s = i.split('_')\n",
        "  if(s[2] == 'HAP'):\n",
        "    files_happy.append(i)\n",
        "  \n",
        "  if(s[2] == 'ANG'):\n",
        "    files_angry.append(i)\n",
        "\n",
        "  if(s[2] == 'SAD'):\n",
        "    files_sad.append(i)\n",
        "\n",
        "  if(s[2] == 'FEA'):\n",
        "    files_fear.append(i)\n",
        "  if(s[2] == 'DIS'):\n",
        "    files_neutral.append(i)\n",
        "\n",
        "  if(s[2] == 'NEU'):\n",
        "    files_disgust.append(i)\n"
      ],
      "metadata": {
        "id": "7QGi62iIE0QM"
      },
      "execution_count": null,
      "outputs": []
    },
    {
      "cell_type": "code",
      "source": [
        "files=files_neutral[:100] + files_angry[:100] + files_sad[:100]+ files_fear[:100]+ files_happy[:100]+files_disgust[:100]"
      ],
      "metadata": {
        "id": "bvh2wZSIGQXg"
      },
      "execution_count": null,
      "outputs": []
    },
    {
      "cell_type": "code",
      "execution_count": null,
      "metadata": {
        "id": "oTFvDv4lIMbS",
        "colab": {
          "base_uri": "https://localhost:8080/"
        },
        "outputId": "70a142aa-1509-41fa-fd7a-2a270401a172"
      },
      "outputs": [
        {
          "output_type": "execute_result",
          "data": {
            "text/plain": [
              "600"
            ]
          },
          "metadata": {},
          "execution_count": 8
        }
      ],
      "source": [
        "len(files)"
      ]
    },
    {
      "cell_type": "markdown",
      "source": [
        "**Extracting Images from Videos**"
      ],
      "metadata": {
        "id": "jSm5rAs6l0U-"
      }
    },
    {
      "cell_type": "code",
      "source": [
        "os.makedirs(\"CHECKANGRY\")\n",
        "os.makedirs(\"CHECKHAPPY\")\n",
        "os.makedirs(\"CHECKSAD\")\n",
        "os.makedirs(\"CHECKFEA\")\n",
        "os.makedirs(\"CHECKDIS\")\n",
        "os.makedirs(\"CHECKNEU\")"
      ],
      "metadata": {
        "id": "hvhDuOBljnyn"
      },
      "execution_count": null,
      "outputs": []
    },
    {
      "cell_type": "code",
      "execution_count": null,
      "metadata": {
        "id": "-xxUrAMqforu"
      },
      "outputs": [],
      "source": [
        "def get_frames_from_video(video_file, stride=0.25 ):\n",
        "    \"\"\"\n",
        "    video_file - path to file, stride - i.e 1.0 - extract frame every second, 0.5 - extract every 0.5 seconds, return: list of images, list of frame times in seconds\n",
        "    \"\"\"\n",
        "    global counter\n",
        "    video = cv2.VideoCapture(video_file)\n",
        "    fps = video.get(cv2.CAP_PROP_FPS) #Frames per second is being calculated\n",
        "    i = 0 #strides counter\n",
        "    \n",
        "    while video.isOpened():\n",
        "        s = video_file.split('_')\n",
        "        if(s[2] == 'HAP'):\n",
        "          ret, frame = video.read() #ret is Boolean(Read/Not), frame- current frame\n",
        "          if ret:\n",
        "\n",
        "            cv2.imwrite(f\"CHECKHAPPY/Image{counter}.jpg\", frame) \n",
        "            i += stride #increasing the stride\n",
        "            video.set(1, round(i * fps)) #\n",
        "            counter=counter+1\n",
        "\n",
        "          else:\n",
        "              break\n",
        "       \n",
        "        if(s[2] == 'ANG'):\n",
        "          ret, frame = video.read() #ret is Boolean(Read/Not), frame- current frame\n",
        "          if ret:\n",
        "            cv2.imwrite(f\"CHECKANGRY/Image{counter}.jpg\", frame) \n",
        "            i += stride #increasing the stride\n",
        "            video.set(1, round(i * fps)) #\n",
        "            \n",
        "            counter=counter+1\n",
        "          else:\n",
        "              break\n",
        "           \n",
        "        if(s[2] == 'SAD'):\n",
        "          ret, frame = video.read() #ret is Boolean(Read/Not), frame- current frame\n",
        "          if ret:\n",
        "            cv2.imwrite(f\"CHECKSAD/Image{counter}.jpg\", frame) \n",
        "            i += stride #increasing the stride\n",
        "            video.set(1, round(i * fps)) #\n",
        "            counter=counter+1\n",
        "          else:\n",
        "              break\n",
        "          \n",
        "        if(s[2] == 'FEA'):\n",
        "          ret, frame = video.read() #ret is Boolean(Read/Not), frame- current frame\n",
        "          if ret:\n",
        "            cv2.imwrite(f\"CHECKFEA/Image{counter}.jpg\", frame) \n",
        "            i += stride #increasing the stride\n",
        "            video.set(1, round(i * fps)) #\n",
        "            counter=counter+1\n",
        "          else:\n",
        "              break\n",
        "\n",
        "        if(s[2] == 'DIS'):\n",
        "          ret, frame = video.read() #ret is Boolean(Read/Not), frame- current frame\n",
        "          if ret:\n",
        "            cv2.imwrite(f\"CHECKDIS/Image{counter}.jpg\", frame) \n",
        "            i += stride #increasing the stride\n",
        "            video.set(1, round(i * fps)) #\n",
        "            print(counter)\n",
        "            counter=counter+1\n",
        "          else:\n",
        "              break\n",
        "\n",
        "        if(s[2] == 'NEU'):\n",
        "          ret, frame = video.read() #ret is Boolean(Read/Not), frame- current frame\n",
        "          if ret:\n",
        "            cv2.imwrite(f\"CHECKNEU/Image{counter}.jpg\", frame) \n",
        "            i += stride #increasing the stride\n",
        "            video.set(1, round(i * fps)) #\n",
        "            counter=counter+1\n",
        "          else:\n",
        "              break"
      ]
    },
    {
      "cell_type": "code",
      "source": [
        "counter=0"
      ],
      "metadata": {
        "id": "1MpdVp5On9nK"
      },
      "execution_count": null,
      "outputs": []
    },
    {
      "cell_type": "code",
      "execution_count": null,
      "metadata": {
        "id": "-GUSJVJ8lljA"
      },
      "outputs": [],
      "source": [
        "for i in files:\n",
        "  print(i)\n",
        "  get_frames_from_video(\"/content/drive/MyDrive/Dataset/\"+i)"
      ]
    },
    {
      "cell_type": "code",
      "source": [
        "fig = plt.figure(figsize = (10, 5))\n",
        "classes=[\"Sad\",\"Angry\", \"Fear\", \"Disgust\", \"Neutral\", \"Happy\"]\n",
        "values=[len(os.listdir(\"/content/CHECKSAD\")),len(os.listdir(\"/content/CHECKANGRY\")), len(os.listdir(\"/content/CHECKFEA\")), len(os.listdir(\"/content/CHECKDIS\")), len(os.listdir(\"/content/CHECKNEU\")),  len(os.listdir(\"/content/CHECKHAPPY\")) ]\n",
        "#creating the bar plot\n",
        "plt.bar(classes, values, color ='blue',\n",
        "        width = 0.4)\n",
        " \n",
        "plt.xlabel(\"Classes\")\n",
        "plt.ylabel(\"Number of Images\")\n",
        "plt.show()"
      ],
      "metadata": {
        "id": "xb02nW88qyMN",
        "colab": {
          "base_uri": "https://localhost:8080/",
          "height": 334
        },
        "outputId": "eca1f097-78a8-4153-dd9c-569e71335af6"
      },
      "execution_count": null,
      "outputs": [
        {
          "output_type": "display_data",
          "data": {
            "text/plain": [
              "<Figure size 720x360 with 1 Axes>"
            ],
            "image/png": "[encoded data removed]"
          },
          "metadata": {
            "needs_background": "light"
          }
        }
      ]
    },
    {
      "cell_type": "markdown",
      "source": [
        "**Image Processing**"
      ],
      "metadata": {
        "id": "972rwhu7l7dT"
      }
    },
    {
      "cell_type": "code",
      "source": [
        "from PIL import Image, ImageOps, ImageEnhance"
      ],
      "metadata": {
        "id": "xtjrCcBlt4qE"
      },
      "execution_count": null,
      "outputs": []
    },
    {
      "cell_type": "code",
      "source": [
        "import tensorflow as tf"
      ],
      "metadata": {
        "id": "XCJVMwQa5of3"
      },
      "execution_count": null,
      "outputs": []
    },
    {
      "cell_type": "code",
      "source": [
        "#Pil Images convert ->Resize ->Sharpenning -> GreyScale -> Varad ->Numpy Array.\n",
        "def convert_image(path):\n",
        "  size=(75, 75)\n",
        "  img = Image.open(path) \n",
        "  img = img.resize(size)\n",
        "  #img = ImageOps.grayscale(img)\n",
        "  enhancer = ImageEnhance.Sharpness(img)\n",
        "  factor = 2\n",
        "  img= enhancer.enhance(factor)\n",
        "  img=tf.keras.preprocessing.image.img_to_array(img)\n",
        "\n",
        "  return img"
      ],
      "metadata": {
        "id": "Unx_YV3ro6Yf"
      },
      "execution_count": null,
      "outputs": []
    },
    {
      "cell_type": "code",
      "execution_count": null,
      "metadata": {
        "id": "Cl6bGOJooXXm"
      },
      "outputs": [],
      "source": [
        "X_images=[]"
      ]
    },
    {
      "cell_type": "code",
      "source": [
        "for i in [\"CHECKANGRY\",\"CHECKDIS\",\"CHECKFEA\",\"CHECKHAPPY\",\"CHECKNEU\",\"CHECKSAD\"]:\n",
        "  for path in os.listdir(i):\n",
        "    faces=convert_image(\"/content/\"+i+\"/\"+path)\n",
        "    X_images.append(faces)"
      ],
      "metadata": {
        "id": "n16wPZh5lqEQ"
      },
      "execution_count": null,
      "outputs": []
    },
    {
      "cell_type": "code",
      "execution_count": null,
      "metadata": {
        "id": "Iot4saZ1zcmK"
      },
      "outputs": [],
      "source": [
        "l2=len(os.listdir(\"/content/CHECKDIS\"))\n",
        "l6=len(os.listdir(\"/content/CHECKSAD\"))\n",
        "l1=len(os.listdir(\"/content/CHECKANGRY\"))\n",
        "l3=len(os.listdir(\"/content/CHECKFEA\"))\n",
        "l4=len(os.listdir(\"/content/CHECKHAPPY\"))\n",
        "l5=len(os.listdir(\"/content/CHECKNEU\"))"
      ]
    },
    {
      "cell_type": "code",
      "execution_count": null,
      "metadata": {
        "id": "Ggc95DbW3C-r"
      },
      "outputs": [],
      "source": [
        "target_y=[]\n",
        "for i in range(0,l1):\n",
        "  target_y.append(0)\n",
        "for i in range(l2):\n",
        "  target_y.append(1)\n",
        "for i in range(l3):\n",
        "  target_y.append(2)\n",
        "for i in range(l4):\n",
        "  target_y.append(3)\n",
        "for i in range(l5):\n",
        "  target_y.append(4)\n",
        "for i in range(l6):\n",
        "  target_y.append(5)\n",
        "#target_y=[]\n",
        "# counter=0\n",
        "# for i in [l1,l2,l3,l4,l5,l6]:\n",
        "#   for t in range(i):\n",
        "#     target_y.append(counter)\n",
        "#   counter=counter+1"
      ]
    },
    {
      "cell_type": "code",
      "source": [
        "from tensorflow.keras.utils import to_categorical"
      ],
      "metadata": {
        "id": "xbCpuZ_j157r"
      },
      "execution_count": null,
      "outputs": []
    },
    {
      "cell_type": "code",
      "source": [
        "target_y=to_categorical(target_y)"
      ],
      "metadata": {
        "id": "QTHb5VWj1wfb"
      },
      "execution_count": null,
      "outputs": []
    },
    {
      "cell_type": "code",
      "execution_count": null,
      "metadata": {
        "id": "YyXYJECKD3PE",
        "colab": {
          "base_uri": "https://localhost:8080/"
        },
        "outputId": "43b238d2-2c2c-4a99-9427-c1220640bd28"
      },
      "outputs": [
        {
          "output_type": "execute_result",
          "data": {
            "text/plain": [
              "6343"
            ]
          },
          "metadata": {},
          "execution_count": 26
        }
      ],
      "source": [
        "len(target_y)"
      ]
    },
    {
      "cell_type": "code",
      "execution_count": null,
      "metadata": {
        "id": "vvkTnXwbDmwn"
      },
      "outputs": [],
      "source": [
        "y=np.array(target_y)"
      ]
    },
    {
      "cell_type": "code",
      "source": [
        "y.shape"
      ],
      "metadata": {
        "id": "AkqRzCB9TjZz",
        "colab": {
          "base_uri": "https://localhost:8080/"
        },
        "outputId": "085a9160-670a-4777-a92f-d4cb683c4418"
      },
      "execution_count": null,
      "outputs": [
        {
          "output_type": "execute_result",
          "data": {
            "text/plain": [
              "(6343, 6)"
            ]
          },
          "metadata": {},
          "execution_count": 29
        }
      ]
    },
    {
      "cell_type": "code",
      "source": [
        "X_images=np.array(X_images)"
      ],
      "metadata": {
        "id": "SbHGgmNbKFY0"
      },
      "execution_count": null,
      "outputs": []
    },
    {
      "cell_type": "code",
      "source": [
        "X_images"
      ],
      "metadata": {
        "id": "7ONYQMz6Hwkx"
      },
      "execution_count": null,
      "outputs": []
    },
    {
      "cell_type": "code",
      "source": [
        "X_images.shape"
      ],
      "metadata": {
        "id": "dfsjJA9sLI3x",
        "colab": {
          "base_uri": "https://localhost:8080/"
        },
        "outputId": "f74d4895-95b0-4aa5-8c50-cf55a435781b"
      },
      "execution_count": null,
      "outputs": [
        {
          "output_type": "execute_result",
          "data": {
            "text/plain": [
              "(6343, 75, 75, 3)"
            ]
          },
          "metadata": {},
          "execution_count": 32
        }
      ]
    },
    {
      "cell_type": "markdown",
      "source": [
        "**Splitting the data for the DL Model**"
      ],
      "metadata": {
        "id": "qDbaUn8HmG_l"
      }
    },
    {
      "cell_type": "code",
      "execution_count": null,
      "metadata": {
        "id": "NfbR32uyI5F4"
      },
      "outputs": [],
      "source": [
        "from sklearn.model_selection import train_test_split\n",
        "X_train, X_test, y_train, y_test=train_test_split(X_images, y, random_state=42)"
      ]
    },
    {
      "cell_type": "markdown",
      "source": [
        "**Building the ResNet50**"
      ],
      "metadata": {
        "id": "KCOr0RdfmO12"
      }
    },
    {
      "cell_type": "code",
      "execution_count": null,
      "metadata": {
        "id": "Jy_Hkj-NJypP",
        "colab": {
          "base_uri": "https://localhost:8080/"
        },
        "outputId": "146d4432-45a7-412c-c192-54ee69ad7a2a"
      },
      "outputs": [
        {
          "output_type": "stream",
          "name": "stdout",
          "text": [
            "Downloading data from https://storage.googleapis.com/tensorflow/keras-applications/resnet/resnet50_weights_tf_dim_ordering_tf_kernels_notop.h5\n",
            "94765736/94765736 [==============================] - 1s 0us/step\n",
            "Model: \"sequential\"\n",
            "_________________________________________________________________\n",
            " Layer (type)                Output Shape              Param #   \n",
            "=================================================================\n",
            " resnet50 (Functional)       (None, 3, 3, 2048)        23587712  \n",
            "                                                                 \n",
            " flatten (Flatten)           (None, 18432)             0         \n",
            "                                                                 \n",
            " dense (Dense)               (None, 512)               9437696   \n",
            "                                                                 \n",
            " dense_1 (Dense)             (None, 128)               65664     \n",
            "                                                                 \n",
            " dense_2 (Dense)             (None, 64)                8256      \n",
            "                                                                 \n",
            " dense_3 (Dense)             (None, 6)                 390       \n",
            "                                                                 \n",
            "=================================================================\n",
            "Total params: 33,099,718\n",
            "Trainable params: 9,512,006\n",
            "Non-trainable params: 23,587,712\n",
            "_________________________________________________________________\n"
          ]
        }
      ],
      "source": [
        "from tensorflow.keras.applications.resnet50 import ResNet50\n",
        "from keras.models import Model\n",
        "from keras.layers import Conv2D, MaxPooling2D, Flatten, Dense, Dropout, InputLayer\n",
        "from keras.models import Sequential\n",
        "from keras import optimizers\n",
        "input_shape=(75,75,3) ## we have to explicitely tell keras the input size\n",
        "\n",
        "\n",
        "pretrained_model = tf.keras.applications.resnet50.ResNet50(input_shape=input_shape, \n",
        "                                                        include_top=False, weights= 'imagenet' )\n",
        "\n",
        "# set model weights as non trainable  \n",
        "## the model can be again tested with partially trainable paramss you can use below code as needed\n",
        "for l in pretrained_model.layers:\n",
        "        l.trainable = False\n",
        "   \n",
        "## -----\n",
        "\n",
        "model = tf.keras.Sequential([\n",
        "    pretrained_model,\n",
        "    tf.keras.layers.Flatten(),\n",
        "    tf.keras.layers.Dense(units=512, activation='relu'),\n",
        "    tf.keras.layers.Dense(units=128, activation='relu'),\n",
        "    tf.keras.layers.Dense(units=64, activation='relu'),\n",
        "    tf.keras.layers.Dense(units=6, activation='softmax')\n",
        "])\n",
        "model.compile(loss='categorical_crossentropy', optimizer='adam', metrics=['accuracy'])\n",
        "\n",
        "model.summary()"
      ]
    },
    {
      "cell_type": "code",
      "execution_count": null,
      "metadata": {
        "id": "9NrzrK0wJ3nD"
      },
      "outputs": [],
      "source": [
        "eps = 20\n",
        "anc=model.fit(X_train,y_train, batch_size=32, epochs=eps, validation_data=(X_test, y_test))"
      ]
    },
    {
      "cell_type": "markdown",
      "source": [
        "**Visalising the Loss Curves**"
      ],
      "metadata": {
        "id": "2czwUuRwmbv3"
      }
    },
    {
      "cell_type": "code",
      "source": [
        "plt.figure(0)\n",
        "plt.plot(anc.history['accuracy'], label='training accuracy')\n",
        "plt.plot(anc.history['val_accuracy'], label='val accuracy')\n",
        "plt.title('Accuracy')\n",
        "plt.xlabel('epochs')\n",
        "plt.ylabel('accuracy')\n",
        "plt.legend()\n",
        "plt.show()\n",
        "plt.figure(1)\n",
        "plt.plot(anc.history['loss'], label='training loss')\n",
        "plt.plot(anc.history['val_loss'], label='val loss')\n",
        "plt.title('Loss')\n",
        "plt.xlabel('epochs')\n",
        "plt.ylabel('loss')\n",
        "plt.legend()\n",
        "plt.show()"
      ],
      "metadata": {
        "colab": {
          "base_uri": "https://localhost:8080/",
          "height": 573
        },
        "id": "JqqMfriNpE1p",
        "outputId": "516a0762-67a4-4982-f271-1ce5c7e24d98"
      },
      "execution_count": null,
      "outputs": [
        {
          "output_type": "display_data",
          "data": {
            "text/plain": [
              "<Figure size 432x288 with 1 Axes>"
            ],
            "image/png": "[encoded data removed]"
          },
          "metadata": {
            "needs_background": "light"
          }
        },
        {
          "output_type": "display_data",
          "data": {
            "text/plain": [
              "<Figure size 432x288 with 1 Axes>"
            ],
            "image/png": "[encoded data removed]"
          },
          "metadata": {
            "needs_background": "light"
          }
        }
      ]
    },
    {
      "cell_type": "markdown",
      "source": [
        "**Saving & Making a Function for Predicting**"
      ],
      "metadata": {
        "id": "Ar7YEjVimhk3"
      }
    },
    {
      "cell_type": "code",
      "source": [
        "model.save(\"Resnet50.h5\")"
      ],
      "metadata": {
        "id": "mIuqI4zpLsm_"
      },
      "execution_count": null,
      "outputs": []
    },
    {
      "cell_type": "code",
      "source": [
        "os.makedirs(\"Check\")"
      ],
      "metadata": {
        "id": "RwTQTCWoK6o1"
      },
      "execution_count": null,
      "outputs": []
    },
    {
      "cell_type": "code",
      "source": [
        "from tensorflow.keras.models import load_model\n",
        "import numpy as np\n",
        "import cv2\n",
        "from PIL import Image, ImageEnhance\n",
        "import tensorflow as tf\n",
        "import os\n",
        "from statistics import mode\n",
        "\n",
        "f_l=[]\n",
        "#model = load_model(\"resnet_50.h5\")\n",
        "counter= 0\n",
        "\n",
        "def get_frame(path,stride = 0.25):\n",
        "\tglobal f_l\n",
        "\tglobal counter\n",
        "\tvideo = cv2.VideoCapture(path)\n",
        "\tfps = video.get(cv2.CAP_PROP_FPS) #Frames per second is being calculated\n",
        "\ti = 0 #strides counter\n",
        "\t\n",
        "\n",
        "\twhile video.isOpened():\n",
        "\t\t\n",
        "\t\tret, frame = video.read() #ret is Boolean(Read/Not), frame- current frame\n",
        "\n",
        "\t\tif ret:\n",
        "\t\t\ti += stride #increasing the stride\n",
        "\t\t\tvideo.set(1, round(i * fps))\n",
        "\t\t\tf_l.append(frame)\n",
        "\t\t\tcv2.imwrite(f\"Check/Image{counter}.jpg\", frame) \n",
        "\t\t\tcounter= counter +1\n",
        "\n",
        "\t\telse:\n",
        "\t\t\tbreak\n",
        "\n",
        "\treturn f_l\n",
        "\n",
        "get_frame(\"/content/drive/MyDrive/Dataset/1016_TIE_FEA_XX.flv\")\n",
        "\n",
        "def convert_image(path):\n",
        "\tsize=(75, 75)\n",
        "\timg = Image.open(path)\n",
        "\timg = img.resize(size)\n",
        "\t\n",
        "\tenhancer = ImageEnhance.Sharpness(img)\n",
        "\tfactor = 2\n",
        "\timg= enhancer.enhance(factor)\n",
        "\timg=tf.keras.preprocessing.image.img_to_array(img)\n",
        "\t#print(img.shape)\n",
        "\n",
        "\treturn img\n",
        "X_Images=[] #list has 9 arrays\n",
        "for i in os.listdir(\"Check\"):\n",
        "\tx=convert_image(\"Check/\"+i)\n",
        "\t#print(x.shape)\n",
        "\tX_Images.append(x)\n",
        "\n",
        "arg_list=[]\n",
        "labels=[\"ANGRY\",\"DISGUST\",\"FEAR\",\"HAPPY\",\"NEUTRAL\",\"SAD\"]\n",
        "for i in X_Images:\n",
        "\t#print(i.shape)\n",
        "\tpred = model.predict(np.expand_dims(i, axis=0))[0]\n",
        "\tprint(pred)\n",
        "\targ=np.argmax(pred)\n",
        "\tprint(arg)\n",
        "\targ_list.append(arg)\n",
        "print(\"Answer: \",labels[mode(arg_list)])\n"
      ],
      "metadata": {
        "colab": {
          "base_uri": "https://localhost:8080/"
        },
        "id": "Ici56k9WKikh",
        "outputId": "072f9d8e-3a12-41b9-8dac-8b4c29c852f0"
      },
      "execution_count": null,
      "outputs": [
        {
          "output_type": "stream",
          "name": "stdout",
          "text": [
            "1/1 [==============================] - 0s 81ms/step\n",
            "[2.3280919e-07 8.1044263e-01 1.6002077e-06 1.8955363e-01 1.9796896e-06\n",
            " 2.1491346e-09]\n",
            "1\n",
            "1/1 [==============================] - 0s 80ms/step\n",
            "[1.0897266e-08 9.9986184e-01 2.6650264e-08 1.3799105e-04 1.4810441e-07\n",
            " 4.6422952e-11]\n",
            "1\n",
            "1/1 [==============================] - 0s 83ms/step\n",
            "[1.0038964e-08 4.2620995e-03 7.4136430e-09 9.9546522e-01 2.7269332e-04\n",
            " 1.1861364e-09]\n",
            "3\n",
            "1/1 [==============================] - 0s 83ms/step\n",
            "[9.2617536e-10 9.9999595e-01 3.9960519e-06 1.8357653e-08 6.0663588e-12\n",
            " 5.9758120e-14]\n",
            "1\n",
            "1/1 [==============================] - 0s 76ms/step\n",
            "[1.5432161e-07 3.9724442e-01 8.9872437e-08 6.0269511e-01 6.0172217e-05\n",
            " 2.1015858e-09]\n",
            "3\n",
            "1/1 [==============================] - 0s 77ms/step\n",
            "[1.2069535e-07 9.7100151e-01 2.3613296e-07 2.8982308e-02 1.5857571e-05\n",
            " 1.8635526e-09]\n",
            "1\n",
            "1/1 [==============================] - 0s 71ms/step\n",
            "[1.3836152e-09 9.9992490e-01 8.4705034e-06 6.6685308e-05 1.9467483e-10\n",
            " 2.8640846e-12]\n",
            "1\n",
            "1/1 [==============================] - 0s 79ms/step\n",
            "[8.7124389e-01 3.9579149e-02 5.4676889e-04 1.1579973e-02 7.7039853e-02\n",
            " 1.0398213e-05]\n",
            "0\n",
            "1/1 [==============================] - 0s 78ms/step\n",
            "[1.2260601e-09 9.9997020e-01 6.7395094e-06 2.2952989e-05 5.7047878e-10\n",
            " 2.3979382e-12]\n",
            "1\n",
            "1/1 [==============================] - 0s 77ms/step\n",
            "[5.9629414e-08 6.2671793e-01 2.3732395e-07 3.7325945e-01 2.2360213e-05\n",
            " 2.1457716e-09]\n",
            "1\n",
            "1/1 [==============================] - 0s 75ms/step\n",
            "[6.5256977e-08 4.4209422e-03 1.8910258e-08 9.9523205e-01 3.4687319e-04\n",
            " 1.9144768e-09]\n",
            "3\n",
            "1/1 [==============================] - 0s 89ms/step\n",
            "[5.2380909e-07 8.9829385e-02 2.5892820e-07 9.0965509e-01 5.1473035e-04\n",
            " 1.1732581e-08]\n",
            "3\n",
            "Answer:  DISGUST\n"
          ]
        }
      ]
    }
  ],
  "metadata": {
    "colab": {
      "collapsed_sections": [],
      "name": "Hackathon- EmotionDetection-Resnet .ipynb",
      "provenance": []
    },
    "kernelspec": {
      "display_name": "Python 3",
      "name": "python3"
    },
    "language_info": {
      "name": "python"
    },
    "gpuClass": "standard"
  },
  "nbformat": 4,
  "nbformat_minor": 0
}